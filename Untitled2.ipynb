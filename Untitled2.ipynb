{
 "cells": [
  {
   "cell_type": "code",
   "execution_count": null,
   "metadata": {},
   "outputs": [],
   "source": [
    "from keras.models import load_model\n",
    "import numpy as np\n",
    "import os\n",
    "import time\n",
    "import mysql.connector\n",
    "from datetime import datetime\n",
    "\n",
    "timer = ((os.environ['TIMER']) * 60)\n",
    "usrname = os.environ['USERNAME']\n",
    "passwrd = os.environ['PASSWORD']\n",
    "databs = os.environ['DATABASE']\n",
    "hst = os.environ['HOST']\n",
    "print \"Loading Nueral Net \" datetime.now().time()\n",
    "model =load_model('adi.hd5')\n",
    "print \"Connecting to MySql \" datetime.now().time()\n",
    "db = mysql.connector.connect(hst,usrname,passwrd,databs)\n",
    "\n",
    "cur = db.cursor()\n",
    "b = True\n",
    "for (b == True):\n",
    "    print \"Start of run \" datetime.now().time()\n",
    "    cur.execute(\"SELECT * FROM PENDING\") #not sure of the name of the table\n",
    "    alldata = np.array(cur.fetchall())\n",
    "    rowcount = (alldata.shape[0])\n",
    "    rowcount-=1\n",
    "    while (rowcount > -1):\n",
    "        predictdata = np.empty((0))\n",
    "        handle = alldata.item((rowcount, 4))\n",
    "        moniker = alldata((rowcount, 5 ))\n",
    "        hanlen = len(handle)\n",
    "        monlen = len(moniker)\n",
    "        charcnt = int(0)\n",
    "        compcnt = int(0)\n",
    "        strcomp = float(0)\n",
    "        if hanlen >= monlen:\n",
    "            while (charcnt < monlen):\n",
    "                if (handle[charcnt] == moniker[charcnt]):\n",
    "                    compcnt += 1\n",
    "                charcnt += 1\n",
    "            strcomp = compcnt / charcnt\n",
    "        else:\n",
    "            while (charcnt < hanlen):\n",
    "                if handle[charcnt] == moniker[charcnt]:\n",
    "                    compcnt += 1\n",
    "                charcnt += 1\n",
    "            strcomp = compcnt/charcnt\n",
    "        predictdata = np.append(predictdata, values=parseset[rowcount, :4])\n",
    "        predictdata = np.append(predictdata, values=parseset[rowcount, 6:])\n",
    "        predictdata = np.append(predictdata, values=[strcomp])\n",
    "        pred = model.predict(predictdata)\n",
    "        #some type of write with confirmation then a delete from mysql\n",
    "        rowcount-=1\n",
    "    time.sleep(timer)\n"
   ]
  }
 ],
 "metadata": {
  "kernelspec": {
   "display_name": "Python 3",
   "language": "python",
   "name": "python3"
  },
  "language_info": {
   "codemirror_mode": {
    "name": "ipython",
    "version": 3
   },
   "file_extension": ".py",
   "mimetype": "text/x-python",
   "name": "python",
   "nbconvert_exporter": "python",
   "pygments_lexer": "ipython3",
   "version": "3.6.4"
  }
 },
 "nbformat": 4,
 "nbformat_minor": 2
}
