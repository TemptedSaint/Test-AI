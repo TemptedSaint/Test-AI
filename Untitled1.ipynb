{
 "cells": [
  {
   "cell_type": "code",
   "execution_count": 7,
   "metadata": {},
   "outputs": [
    {
     "name": "stdout",
     "output_type": "stream",
     "text": [
      "(9512, 17)\n",
      "9512/9512 [==============================] - 0s 14us/step\n",
      "\n",
      "acc: 76.46%\n"
     ]
    }
   ],
   "source": [
    "from keras.models import load_model\n",
    "import numpy as np\n",
    "\n",
    "#for the sample set you must remove the header row, it will break the reading and set values turning all columns to strings instead of just two\n",
    "sampleset = np.loadtxt(\"10k.csv\", dtype=float, delimiter=\",\")\n",
    "# due to string values messing with the single delimiter in a float array I split the input into two seperate arrays\n",
    "samplestringset = np.loadtxt(\"10kstring.csv\", dtype=str, delimiter=\",\")\n",
    "#initializes train set as empty to be filled by logic table\n",
    "testerset = np.empty((0))\n",
    "\n",
    "#removing of the 5 and converting 2 to 1\n",
    "#changing 1 to 0, 3 to 1 and 4 to 2\n",
    "#changing names to comparison values\n",
    "\n",
    "rowcount,colcount = sampleset.shape\n",
    "rawcount,x = sampleset.shape\n",
    "rowcount -=1\n",
    "colcount -=1\n",
    "while (rowcount > -1):\n",
    "    parseset = sampleset[rowcount,:]\n",
    "    if (parseset.item((colcount)) < 5):\n",
    "        # entire ladder to redistribute the recruiting values\n",
    "        if (parseset.item((colcount)) == 1):\n",
    "            parseset[colcount] = 0\n",
    "        elif (parseset.item((colcount)) == 2):\n",
    "            parseset[colcount] = 0\n",
    "        elif (parseset.item((colcount)) == 3):\n",
    "            parseset[colcount] = 1\n",
    "        elif (parseset.item((colcount)) == 4):\n",
    "            parseset[colcount] = 2\n",
    "        handle = samplestringset[rowcount,0]\n",
    "        moniker = samplestringset[rowcount,1]\n",
    "        hanlen = len(handle)\n",
    "        monlen = len(moniker)\n",
    "        tempset = np.empty((0))\n",
    "        # charecter count\n",
    "        charcnt = int(0)\n",
    "        # charecter comparison count\n",
    "        compcnt = int(0)\n",
    "        # total comparison float\n",
    "        strcomp = float(0)\n",
    "        if hanlen >= monlen:\n",
    "            while (charcnt < monlen):\n",
    "                if (handle[charcnt] == moniker[charcnt]):\n",
    "                    compcnt += 1\n",
    "                charcnt += 1\n",
    "            strcomp = compcnt / charcnt\n",
    "        else:\n",
    "            while (charcnt < hanlen):\n",
    "                if handle[charcnt] == moniker[charcnt]:\n",
    "                    compcnt += 1\n",
    "                charcnt += 1\n",
    "            strcomp = compcnt/charcnt\n",
    "        a = np.empty((0))\n",
    "        a = np.append(a, strcomp)\n",
    "        #this will create the entire new array with the strings accounted for in comparison with recruiting value at the end\n",
    "        tempset = np.empty((0))\n",
    "        tempset = np.append(tempset, values=parseset[:colcount])\n",
    "        tempset = np.append(tempset, values=[strcomp])\n",
    "        tempset = np.append(tempset, values=parseset[colcount])\n",
    "        if ((rowcount+1) == rawcount):\n",
    "            testerset = tempset\n",
    "        else:\n",
    "            testerset = np.vstack([testerset, tempset])\n",
    "    rowcount -= 1\n",
    "    \n",
    "print(testerset.shape)\n",
    "\n",
    "# converting the data set so that it can be used for testing\n",
    "\n",
    "testdata,checkdata = testerset[:,:16],testerset[:,16]\n",
    "\n",
    "model =load_model('adi.hd5')\n",
    "\n",
    "scores = model.evaluate(testdata, checkdata)\n",
    "print(\"\\n%s: %.2f%%\" % (model.metrics_names[1], scores[1]*100))"
   ]
  },
  {
   "cell_type": "code",
   "execution_count": null,
   "metadata": {},
   "outputs": [],
   "source": []
  },
  {
   "cell_type": "code",
   "execution_count": null,
   "metadata": {},
   "outputs": [],
   "source": []
  },
  {
   "cell_type": "code",
   "execution_count": null,
   "metadata": {},
   "outputs": [],
   "source": []
  }
 ],
 "metadata": {
  "kernelspec": {
   "display_name": "Python 3",
   "language": "python",
   "name": "python3"
  },
  "language_info": {
   "codemirror_mode": {
    "name": "ipython",
    "version": 3
   },
   "file_extension": ".py",
   "mimetype": "text/x-python",
   "name": "python",
   "nbconvert_exporter": "python",
   "pygments_lexer": "ipython3",
   "version": "3.6.4"
  }
 },
 "nbformat": 4,
 "nbformat_minor": 2
}
