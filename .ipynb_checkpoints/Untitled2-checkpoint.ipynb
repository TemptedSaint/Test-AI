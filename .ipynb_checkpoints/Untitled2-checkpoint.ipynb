{
 "cells": [
  {
   "cell_type": "code",
   "execution_count": null,
   "metadata": {},
   "outputs": [],
   "source": [
    "from keras.models import Sequential\n",
    "from keras.layers import Dense\n",
    "import numpy as np\n",
    "import os\n",
    "import time\n",
    "import mysql.connector\n",
    "from datetime import datetime\n",
    "\n",
    "timer = ((os.environ['TIMER']) * 60)\n",
    "usrname = os.environ['USERNAME']\n",
    "passwrd = os.environ['PASSWORD']\n",
    "databs = os.environ['DATABASE']\n",
    "hst = os.environ['HOST']\n",
    "print \"Loading Nueral Net \" + datetime.now().time()\n",
    "model =load_model('adi.hd5')\n",
    "print \"Connecting to MySql \" + datetime.now().time()\n",
    "db = mysql.connector.connect(hst,usrname,passwrd,databs)\n",
    "\n",
    "cur = db.cursor()\n",
    "b = True\n",
    "for (b == True):\n",
    "    print \"Start of run \" + datetime.now().time()\n",
    "    cur.execute(\"SELECT * FROM PENDING\")\n",
    "\n",
    "    alldata = np.array(cur.fetchall())\n",
    "\n",
    "\n",
    "\n",
    "    predictdata\n",
    "    \n",
    "    rowcount = (predictdata.shape[0])-1\n",
    "    while (rowcount > -1):\n",
    "        \n",
    "        rowcount=1\n",
    "    \n"
   ]
  }
 ],
 "metadata": {
  "kernelspec": {
   "display_name": "Python 3",
   "language": "python",
   "name": "python3"
  },
  "language_info": {
   "codemirror_mode": {
    "name": "ipython",
    "version": 3
   },
   "file_extension": ".py",
   "mimetype": "text/x-python",
   "name": "python",
   "nbconvert_exporter": "python",
   "pygments_lexer": "ipython3",
   "version": "3.6.4"
  }
 },
 "nbformat": 4,
 "nbformat_minor": 2
}
